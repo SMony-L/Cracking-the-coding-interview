{
 "metadata": {
  "language_info": {
   "codemirror_mode": {
    "name": "ipython",
    "version": 3
   },
   "file_extension": ".py",
   "mimetype": "text/x-python",
   "name": "python",
   "nbconvert_exporter": "python",
   "pygments_lexer": "ipython3",
   "version": "3.7.0-final"
  },
  "orig_nbformat": 2,
  "kernelspec": {
   "name": "python3",
   "display_name": "Python 3"
  }
 },
 "nbformat": 4,
 "nbformat_minor": 2,
 "cells": [
  {
   "cell_type": "code",
   "execution_count": 2,
   "metadata": {},
   "outputs": [
    {
     "output_type": "stream",
     "name": "stdout",
     "text": [
      "+------------------------+----------------------+-----------------------+\n|     Data Structure     |      Algorithm       |       Concepts        |\n+------------------------+----------------------+-----------------------+\n|      Linked List       | Breadth-First Search |   Bit Manipulation    |\n+------------------------+----------------------+-----------------------+\n| Trees, Tries, & Graphs |  Depth-First Search  | Memory(Stack vs Heap) |\n+------------------------+----------------------+-----------------------+\n|    Stacks & Queues     |    Binary Search     |       Recursion       |\n+------------------------+----------------------+-----------------------+\n|         Heaps          |      Merge Sort      |  Dynamic Programing   |\n+------------------------+----------------------+-----------------------+\n|  Vectors / ArrayLists  |      Quick Sort      |  Big O Time & Space   |\n+------------------------+----------------------+-----------------------+\n|      Hash Tables       |                      |                       |\n+------------------------+----------------------+-----------------------+\n"
     ]
    }
   ],
   "source": [
    "# Absolute Must Have Knowledge\n",
    "from beautifultable import BeautifulTable\n",
    "table = BeautifulTable()\n",
    "table.rows.append(['Linked List', 'Breadth-First Search', 'Bit Manipulation'])\n",
    "table.rows.append(['Trees, Tries, & Graphs', 'Depth-First Search', 'Memory(Stack vs Heap)'])\n",
    "table.rows.append(['Stacks & Queues', 'Binary Search', 'Recursion'])\n",
    "table.rows.append(['Heaps', 'Merge Sort', 'Dynamic Programing'])\n",
    "table.rows.append(['Vectors / ArrayLists', 'Quick Sort', 'Big O Time & Space'])\n",
    "table.rows.append(['Hash Tables', ' ', ' '])\n",
    "table.columns.header= ['Data Structure', 'Algorithm', 'Concepts']\n",
    "print(table)"
   ]
  },
  {
   "cell_type": "code",
   "execution_count": null,
   "metadata": {},
   "outputs": [],
   "source": []
  }
 ]
}